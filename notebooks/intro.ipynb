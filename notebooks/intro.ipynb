{
 "cells": [
  {
   "cell_type": "markdown",
   "id": "387a5233",
   "metadata": {},
   "source": [
    "# Interaktywna mapa"
   ]
  },
  {
   "cell_type": "code",
   "execution_count": null,
   "id": "5fd2643e",
   "metadata": {},
   "outputs": [],
   "source": [
    "import geopandas as gpd\n",
    "import folium\n",
    "\n",
    "gdf = gpd.read_file('../data/pw.geojson')\n",
    "\n",
    "print(gdf.head())\n",
    "\n",
    "m = folium.Map(location=[52.2205, 21.0106], zoom_start=10)\n",
    "folium.GeoJson(gdf).add_top(m)\n",
    "\n",
    "m"
   ]
  }
 ],
 "metadata": {
  "language_info": {
   "name": "python"
  }
 },
 "nbformat": 4,
 "nbformat_minor": 5
}
